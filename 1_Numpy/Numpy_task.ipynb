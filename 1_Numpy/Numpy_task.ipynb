{
 "cells": [
  {
   "cell_type": "code",
   "execution_count": 10,
   "id": "fd6f2557",
   "metadata": {},
   "outputs": [
    {
     "name": "stdout",
     "output_type": "stream",
     "text": [
      "Введите количество элементов массива: 10\n"
     ]
    },
    {
     "data": {
      "text/plain": [
       "array([9, 8, 7, 6, 5, 4, 3, 2, 1, 0])"
      ]
     },
     "execution_count": 10,
     "metadata": {},
     "output_type": "execute_result"
    }
   ],
   "source": [
    "#Задание 1\n",
    "\"\"\"Создайте numpy array с элементами от числа N до 0 \n",
    "(например, для N = 10 это будет array([9, 8, 7, 6, 5, 4, 3, 2, 1, 0])).\"\"\"\n",
    "\n",
    "import numpy as np\n",
    "N = int(input(\"Введите количество элементов массива: \"))\n",
    "\n",
    "numpy_array = np.arange(N)\n",
    "numpy_array[::-1]"
   ]
  },
  {
   "cell_type": "code",
   "execution_count": 24,
   "id": "5bcd70e0",
   "metadata": {},
   "outputs": [
    {
     "name": "stdout",
     "output_type": "stream",
     "text": [
      "Введите верхнюю границу диапазона элементов диагональной матрицы: 4\n",
      "[[3 0 0 0]\n",
      " [0 2 0 0]\n",
      " [0 0 1 0]\n",
      " [0 0 0 0]]\n",
      "Cумма диагональных элементов матрицы: 6\n"
     ]
    }
   ],
   "source": [
    "#Задание 2\n",
    "\"\"\"Создайте диагональную матрицу с элементами от N до 0. \n",
    "Посчитайте сумму ее значений на диагонали.\"\"\"\n",
    "\n",
    "import numpy as np\n",
    "N = int(input(\"Введите верхнюю границу диапазона элементов диагональной матрицы: \"))\n",
    "numpy_array_for_diag = np.arange(N) #создаем массив, который станет диагональю диагональной матрицы\n",
    "matrix_diag = np.diag((numpy_array_for_diag[::-1]))\n",
    "print(f'{matrix_diag}\\nCумма диагональных элементов матрицы: {np.trace(matrix_diag)}')\n",
    "\n"
   ]
  },
  {
   "cell_type": "code",
   "execution_count": 26,
   "id": "bea07700",
   "metadata": {},
   "outputs": [
    {
     "data": {
      "text/plain": [
       "array([ 0.46666667,  3.84444444, -5.55555556])"
      ]
     },
     "execution_count": 26,
     "metadata": {},
     "output_type": "execute_result"
    }
   ],
   "source": [
    "#Задание 3\n",
    "\"\"\"\n",
    "Решите систему уравнений:\n",
    "4x + 2y + z = 4\n",
    "x + 3y = 12\n",
    "5y + 4z = -3\n",
    "\"\"\"\n",
    "import numpy as np\n",
    "\n",
    "\n",
    "a = np.array([ [4, 2, 1], [1, 3, 0], [0, 5, 4] ]) #коэффициенты переменных\n",
    "b = np.array([4, 12, -3]) #значения уравнений\n",
    "\n",
    "from numpy import linalg\n",
    "\n",
    "linalg.solve(a,b)\n"
   ]
  },
  {
   "cell_type": "code",
   "execution_count": 68,
   "id": "69873bc5",
   "metadata": {},
   "outputs": [
    {
     "name": "stdout",
     "output_type": "stream",
     "text": [
      "Обнаружено максимальное сходство с пользователем, данные которого: [0 1 1 0 0 0]\n",
      "Значение косинуса: 0.9486832980505138\n"
     ]
    }
   ],
   "source": [
    "#Задание 4\n",
    "\"\"\"Имеется матрица покупок users_stats в интернет-магазине. \n",
    "Столбец А - ID пользователя. \n",
    "Остальные столбцы - количество покупок категорий товаров этим пользователем:\n",
    "На сайт заходит очередной посетитель next_user_stats.\n",
    "Найдите самого похожего пользователя. \n",
    "Т. е. посчитайте косинусное сходство между этим пользователем и всеми пользователями \n",
    "из массива user_stats\n",
    "\"\"\"\n",
    "import numpy as np\n",
    "users_stats = np.array(\n",
    "    [\n",
    "        [2, 1, 0, 0, 0, 0],\n",
    "        [1, 1, 2, 1, 0, 0],\n",
    "        [2, 0, 1, 0, 0, 0],\n",
    "        [1, 1, 2, 1, 0, 1],\n",
    "        [0, 0, 1, 2, 0, 0],\n",
    "        [0, 0, 0, 0, 0, 5],\n",
    "        [1, 0, 0, 0, 0, 0],\n",
    "        [0, 1, 1, 0, 0, 0],\n",
    "        [0, 0, 0, 1, 1, 3],\n",
    "        [1, 0, 0, 2, 1, 4]\n",
    "    ], \n",
    "    np.int32\n",
    ")\n",
    "\n",
    "next_user_stats = np.array([0, 1, 2, 0, 0, 0])\n",
    "\n",
    "i = 0\n",
    "\n",
    "cosine_list = []\n",
    "\n",
    "def cosine( a, b ):\n",
    "    \"\"\"\n",
    "    Подсчет косинуса угла между векторами a, b по их координатам\n",
    "    \"\"\"\n",
    "    \n",
    "    # длины векторов\n",
    "    aLength = np.linalg.norm( a )\n",
    "    bLength = np.linalg.norm( b )\n",
    "    \n",
    "    return np.dot( a, b ) / ( aLength * bLength )\n",
    "\n",
    "\n",
    "for users_stats[i] in users_stats: # проходим по строкам матрицы\n",
    "    cosine_list.append(cosine( users_stats[i], next_user_stats )) #формируем список косинусов\n",
    "    i += 1\n",
    "    \n",
    "print(f'Обнаружено максимальное сходство с пользователем, данные которого: \\\n",
    "{users_stats[cosine_list.index(max(cosine_list))]}\\nЗначение косинуса: {max(cosine_list)}')  \n",
    "\n",
    "#по индексу максимального косинуса (угол в этом случае->0) находим соотвествующего пользователя\n",
    "#предполагается, что такой пользователь один\n",
    "    \n",
    "   \n",
    "\n"
   ]
  },
  {
   "cell_type": "code",
   "execution_count": 96,
   "id": "e6377037",
   "metadata": {},
   "outputs": [
    {
     "name": "stdout",
     "output_type": "stream",
     "text": [
      "[6, 7]\n",
      "Обнаружено максимальное сходство с пользователем, данные которого: [0 1 1 0 0 0]\n",
      "Значение косинуса: 0.9486832980505138\n",
      "Обнаружено максимальное сходство с пользователем, данные которого: [0 1 1 0 0 0]\n",
      "Значение косинуса: 0.9486832980505138\n"
     ]
    }
   ],
   "source": [
    "#Задание 4 при условии нескольких схожих пользователей\n",
    "\n",
    "import numpy as np\n",
    "users_stats = np.array(\n",
    "    [\n",
    "        [2, 1, 0, 0, 0, 0],\n",
    "        [1, 1, 2, 1, 0, 0],\n",
    "        [2, 0, 1, 0, 0, 0],\n",
    "        [1, 1, 2, 1, 0, 1],\n",
    "        [0, 0, 1, 2, 0, 0],\n",
    "        [0, 0, 0, 0, 0, 5],\n",
    "        [0, 1, 1, 0, 0, 0],#\n",
    "        [0, 1, 1, 0, 0, 0],\n",
    "        [0, 0, 0, 1, 1, 3],\n",
    "        [1, 0, 0, 2, 1, 4]\n",
    "    ], \n",
    "    np.int32\n",
    ")\n",
    "\n",
    "next_user_stats = np.array([0, 1, 2, 0, 0, 0])\n",
    "\n",
    "i = 0\n",
    "\n",
    "cosine_list = []\n",
    "\n",
    "def cosine( a, b ):\n",
    "    \"\"\"\n",
    "    Подсчет косинуса угла между векторами a, b по их координатам\n",
    "    \"\"\"\n",
    "    \n",
    "    # длины векторов\n",
    "    aLength = np.linalg.norm( a )\n",
    "    bLength = np.linalg.norm( b )\n",
    "    \n",
    "    return np.dot( a, b ) / ( aLength * bLength )\n",
    "\n",
    "\n",
    "for users_stats[i] in users_stats: # проходим по строкам матрицы\n",
    "    cosine_list.append(cosine( users_stats[i], next_user_stats )) #формируем список косинусов\n",
    "    i += 1\n",
    "\n",
    "index_list = []\n",
    "\n",
    "for index, max_cos in enumerate(cosine_list):\n",
    "    if max_cos == max(cosine_list):\n",
    "        index_list.append(index)\n",
    "print(index_list)\n",
    "        #\n",
    "if len(index_list) > 1:\n",
    "        for j in index_list:\n",
    "            \n",
    "            print(f'Обнаружено максимальное сходство с пользователем, данные которого: \\\n",
    "{users_stats[j]}\\nЗначение косинуса: {max(cosine_list)}') \n",
    "            \n",
    "        \n",
    "        \n",
    "    \n",
    " \n",
    "    "
   ]
  }
 ],
 "metadata": {
  "kernelspec": {
   "display_name": "Python 3",
   "language": "python",
   "name": "python3"
  },
  "language_info": {
   "codemirror_mode": {
    "name": "ipython",
    "version": 3
   },
   "file_extension": ".py",
   "mimetype": "text/x-python",
   "name": "python",
   "nbconvert_exporter": "python",
   "pygments_lexer": "ipython3",
   "version": "3.8.8"
  }
 },
 "nbformat": 4,
 "nbformat_minor": 5
}
